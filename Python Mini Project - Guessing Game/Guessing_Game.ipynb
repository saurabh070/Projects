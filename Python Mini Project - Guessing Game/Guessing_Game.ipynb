{
  "cells": [
    {
      "cell_type": "markdown",
      "metadata": {
        "id": "IO6CCzCxORrK"
      },
      "source": [
        "# Guessing Game Challenge\n",
        "\n",
        "Let's use `while` loops to create a guessing game.\n",
        "\n",
        "The Challenge:\n",
        "\n",
        "Write a program that picks a random integer from 1 to 100, and has players guess the number. The rules are:\n",
        "\n",
        "1. If a player's guess is less than 1 or greater than 100, say \"OUT OF BOUNDS\"\n",
        "2. On a player's first turn, if their guess is\n",
        " * within 10 of the number, return \"WARM!\"\n",
        " * further than 10 away from the number, return \"COLD!\"\n",
        "3. On all subsequent turns, if a guess is\n",
        " * closer to the number than the previous guess return \"WARMER!\"\n",
        " * farther from the number than the previous guess, return \"COLDER!\"\n",
        "4. When the player's guess equals the number, tell them they've guessed correctly *and* how many guesses it took!\n",
        "\n",
        "You can try this from scratch, or follow the steps outlined below. A separate Solution notebook has been provided. Good luck!\n"
      ]
    },
    {
      "cell_type": "markdown",
      "metadata": {
        "id": "XqHx-Jz5uGUQ"
      },
      "source": [
        "# Solution Code:"
      ]
    },
    {
      "cell_type": "code",
      "execution_count": null,
      "metadata": {
        "colab": {
          "base_uri": "https://localhost:8080/"
        },
        "id": "PQicrkh_r3e6",
        "outputId": "48e5d165-96bc-41f8-a92e-1cec2196994d"
      },
      "outputs": [
        {
          "output_type": "stream",
          "name": "stdout",
          "text": [
            "6\n",
            "\n",
            "Welcome to the Number Guessing Game!\n",
            "\n",
            "Here's how to play:\n",
            "\n",
            "1. The computer has picked a random number between 1 and 100.\n",
            "2. Your task is to guess the correct number.\n",
            "3. If your guess is too low or too high (less than 1 or more than 100), you'll be told \"OUT OF BOUNDS.\"\n",
            "4. On your first turn:\n",
            "   - If your guess is within 10 of the number, you'll be told \"WARM!\"\n",
            "   - If your guess is more than 10 away, you'll be told \"COLD!\"\n",
            "5. On subsequent turns:\n",
            "   - If your new guess is closer than the previous one, you'll be told \"WARMER!\"\n",
            "   - If your new guess is farther, you'll be told \"COLDER!\"\n",
            "6. Keep guessing until you get the correct number!\n",
            "7. Once you guess correctly, you'll be informed, and the game will tell you how many guesses it took.\n",
            "\n",
            "Now, let the guessing begin! Good luck!\n",
            "\n",
            "Guess the number between 1 and 100: 200\n",
            "OUT OF BOUNDS\n",
            "Guess the number between 1 and 100: 50\n",
            "COLD!\n",
            "Guess the number between 1 and 100: 60\n",
            "COLDER!\n",
            "Guess the number between 1 and 100: 40\n",
            "WARMER!\n",
            "Guess the number between 1 and 100: 30\n",
            "WARMER!\n",
            "Guess the number between 1 and 100: 35\n",
            "COLDER!\n",
            "Guess the number between 1 and 100: 6\n",
            "Congratulations! You've guessed the correct number in 6 guesses.\n"
          ]
        }
      ],
      "source": [
        "import random\n",
        "\n",
        "# Generates a random number between 1 and 100\n",
        "sys_num = random.randint(1, 100)\n",
        "\n",
        "\n",
        "# Game Rules\n",
        "print('''\n",
        "Welcome to the Number Guessing Game!\n",
        "\n",
        "Here's how to play:\n",
        "\n",
        "1. The computer has picked a random number between 1 and 100.\n",
        "2. Your task is to guess the correct number.\n",
        "3. If your guess is too low or too high (less than 1 or more than 100), you'll be told \"OUT OF BOUNDS.\"\n",
        "4. On your first turn:\n",
        "   - If your guess is within 10 of the number, you'll be told \"WARM!\"\n",
        "   - If your guess is more than 10 away, you'll be told \"COLD!\"\n",
        "5. On subsequent turns:\n",
        "   - If your new guess is closer than the previous one, you'll be told \"WARMER!\"\n",
        "   - If your new guess is farther, you'll be told \"COLDER!\"\n",
        "6. Keep guessing until you get the correct number!\n",
        "7. Once you guess correctly, you'll be informed, and the game will tell you how many guesses it took.\n",
        "\n",
        "Now, let the guessing begin! Good luck!\n",
        "''')\n",
        "\n",
        "# Variables Intialized\n",
        "guesses = []\n",
        "old_guess = None\n",
        "\n",
        "while True:\n",
        "    # User's input guess\n",
        "    user_num = int(input(\"Guess the number between 1 and 100: \"))\n",
        "\n",
        "    # Checking out of bounds for user input\n",
        "    if user_num < 1 or user_num > 100:\n",
        "        print(\"OUT OF BOUNDS\")\n",
        "        continue\n",
        "\n",
        "    # Checking if the guess is correct\n",
        "    if user_num == sys_num:\n",
        "        guesses.append(user_num)\n",
        "        print(\"Congratulations! You've guessed the correct number in\", len(guesses), \"guesses.\")\n",
        "        break\n",
        "\n",
        "    # Guess Evaluation\n",
        "    guesses.append(user_num)\n",
        "    if old_guess is None:\n",
        "        # First guess\n",
        "        if abs(user_num - sys_num) <= 10:\n",
        "            print(\"WARM!\")\n",
        "        else:\n",
        "            print(\"COLD!\")\n",
        "    else:\n",
        "        # Subsequent guesses\n",
        "        if abs(user_num - sys_num) < abs(old_guess - sys_num):\n",
        "            print(\"WARMER!\")\n",
        "        else:\n",
        "            print(\"COLDER!\")\n",
        "\n",
        "    # Update variables for the next iteration\n",
        "    old_guess = user_num\n"
      ]
    }
  ],
  "metadata": {
    "colab": {
      "provenance": []
    },
    "kernelspec": {
      "display_name": "Python 3",
      "name": "python3"
    },
    "language_info": {
      "name": "python"
    }
  },
  "nbformat": 4,
  "nbformat_minor": 0
}